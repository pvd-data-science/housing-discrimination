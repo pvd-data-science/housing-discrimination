{
 "cells": [
  {
   "cell_type": "code",
   "execution_count": 16,
   "metadata": {},
   "outputs": [
    {
     "data": {
      "text/html": [
       "<style>.container { width:100% !important; }</style>"
      ],
      "text/plain": [
       "<IPython.core.display.HTML object>"
      ]
     },
     "metadata": {},
     "output_type": "display_data"
    }
   ],
   "source": [
    "from requests import get\n",
    "from bs4 import BeautifulSoup\n",
    "import json\n",
    "from IPython.core.display import display, HTML\n",
    "display(HTML(\"<style>.container { width:100% !important; }</style>\"))"
   ]
  },
  {
   "cell_type": "code",
   "execution_count": 66,
   "metadata": {},
   "outputs": [
    {
     "name": "stdout",
     "output_type": "stream",
     "text": [
      "Got type: <class 'bs4.element.ResultSet'>; listings: 70; dup listings: 5 for 02905\n"
     ]
    }
   ],
   "source": [
    "URL = \"https://providence.craigslist.org/\"\n",
    "QUERY = \"search/apa\"\n",
    "\n",
    "postal_codes = ['02903', '02904', '02905', '02906', '02907', '02908', '02909', '02910', '02911', '02919', ]\n",
    "\n",
    "def query_url():\n",
    "    return URL + QUERY\n",
    "\n",
    "def filter_line(line):\n",
    "    if not line or line == 'QR Code Link to This Post':\n",
    "        return False\n",
    "    else:\n",
    "        return True\n",
    "\n",
    "def map_line(line):\n",
    "    return line.strip('\\n').strip(' ')\n",
    "\n",
    "def get_description(href):\n",
    "    response_details = get(href)\n",
    "    detail_soup = BeautifulSoup(response_details.text, 'html.parser')\n",
    "    body = detail_soup.find(id=\"postingbody\")\n",
    "    \n",
    "    return list(filter(filter_line, map(map_line, body.find_all(text=True))))\n",
    "\n",
    "def extract_repost(duplicate_rows):\n",
    "    if duplicate_rows:\n",
    "        return [row.get('data-repost-of') for row in duplicate_rows.find_all(class_=\"result-row\")]\n",
    "    else:\n",
    "        return []\n",
    "\n",
    "def listing(post):\n",
    "    title = post.find(class_ = \"result-title hdrlnk\")\n",
    "    \n",
    "    return {\n",
    "        'price': post.find(class_ = \"result-price\").text, \n",
    "        'title': title.text,\n",
    "        'href': title.get('href'),\n",
    "        'description': get_description(title.get('href')),\n",
    "        'duplicates': extract_repost(post.find(class_=\"duplicate-rows\")),\n",
    "    }\n",
    "\n",
    "\n",
    "def extract_listings(postal_code):\n",
    "    response = get(query_url(), params={'bundleDuplicates':1, 'availabilityMode':0, 'sale_date':'all dates', 'search_distance': 0, 'postal': postal_code})\n",
    "    html_soup = BeautifulSoup(response.text, 'html.parser')\n",
    "    posts = html_soup.find_all('li', class_= ['result-row', 'result-row duplicate-row'])\n",
    "    dup_posts = html_soup.find_all('li', class_= 'result-row duplicate-row')\n",
    "\n",
    "    print(\"Got type: {}; listings: {}; dup listings: {} for {}\".format(type(posts), len(posts), len(dup_posts), postal_code))\n",
    "\n",
    "    # Is there pagination? Seems to match UI well but not exactly?\n",
    "    extracted = [listing(post) for post in posts + dup_posts]\n",
    "   \n",
    "    with open('craigslist/raw/{}.html'.format(postal_code), 'w') as f:\n",
    "        f.write(response.text)\n",
    "\n",
    "    with open('craigslist/extracted/{}.json'.format(postal_code), 'w') as f:\n",
    "        json.dump(extracted, f, indent=2)\n",
    "\n",
    "        \n",
    "extract_listings('02905')\n",
    "        \n",
    "# for postal_code in postal_codes:\n",
    "#     extract_listings(postal_code)\n",
    "        "
   ]
  },
  {
   "cell_type": "code",
   "execution_count": null,
   "metadata": {},
   "outputs": [],
   "source": []
  }
 ],
 "metadata": {
  "kernelspec": {
   "display_name": "Python 3",
   "language": "python",
   "name": "python3"
  },
  "language_info": {
   "codemirror_mode": {
    "name": "ipython",
    "version": 3
   },
   "file_extension": ".py",
   "mimetype": "text/x-python",
   "name": "python",
   "nbconvert_exporter": "python",
   "pygments_lexer": "ipython3",
   "version": "3.7.6"
  }
 },
 "nbformat": 4,
 "nbformat_minor": 4
}
